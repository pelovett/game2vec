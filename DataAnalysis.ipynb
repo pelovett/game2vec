{
 "cells": [
  {
   "cell_type": "markdown",
   "metadata": {},
   "source": [
    "# Steam Game Vectorize Program"
   ]
  },
  {
   "cell_type": "code",
   "execution_count": 3,
   "metadata": {},
   "outputs": [],
   "source": [
    "import requests as req\n",
    "import sys\n",
    "apiKey = open(\"apiKey.txt\", \"r\").readline().strip()"
   ]
  },
  {
   "cell_type": "code",
   "execution_count": 4,
   "metadata": {},
   "outputs": [],
   "source": [
    "def api_call(start, mid, end=\"\", userID=\"76561197960435530\", key=apiKey):\n",
    "    request_string = start+key+mid+str(userID)+end\n",
    "    result = req.get(request_string)\n",
    "    if result.status_code == 200:\n",
    "        return result.json()\n",
    "    else:\n",
    "        print(\"Error while reaching:\")\n",
    "        print(request_string)\n",
    "        raise Exception(result.status_code)\n",
    "        return\n",
    "    \n",
    "#Returns API URL for player summaries; #key is api key, uesrID is one or list of userIDs for steam users\n",
    "def get_player_sum(user=\"76561197978184570\", api_key=apiKey):\n",
    "    p_start = \"http://api.steampowered.com/ISteamUser/GetPlayerSummaries/v0002/?key=\"\n",
    "    p_end = \"&steamids=\"\n",
    "    return api_call(p_start, p_end, userID=user, key=api_key)['response']['players']\n",
    "\n",
    "def get_player_friends(user=\"76561197978184570\", api_key=apiKey):\n",
    "    p_start = \"http://api.steampowered.com/ISteamUser/GetFriendList/v0001/?key=\"\n",
    "    p_mid = \"&steamid=\"\n",
    "    p_end = \"relationship=friend\"\n",
    "    return api_call(p_start, p_mid, p_end, user, api_key)['friendslist']['friends']\n",
    "    \n",
    "def get_recent_games(user=\"76561197978184570\", api_key=apiKey):\n",
    "    p_start = \"http://api.steampowered.com/IPlayerService/GetRecentlyPlayedGames/v0001/?key=\"\n",
    "    p_mid = \"&steamid=\"\n",
    "    p_end = \"&format=json\"\n",
    "    return api_call(p_start, p_mid, p_end, user, api_key)['response']['games']\n",
    "\n",
    "def get_all_games(user=\"76561197978184570\", api_key=apiKey):\n",
    "    p_start = \"http://api.steampowered.com/IPlayerService/GetOwnedGames/v0001/?key=\"\n",
    "    p_mid   = \"&steamid=\"\n",
    "    p_end     = \"&format=json\"\n",
    "    return api_call(p_start, p_mid, p_end, user, api_key)['response']['games']\n",
    "\n",
    "def get_game_name(gameID, api_key=apiKey):\n",
    "    p_start = \"http://api.steampowered.com/ISteamUserStats/GetSchemaForGame/v2/?key=\"\n",
    "    p_mid = \"&appid=\"\n",
    "    return api_call(p_start, p_mid, userID=gameID, key=api_key)['game']['gameName']"
   ]
  },
  {
   "cell_type": "code",
   "execution_count": 5,
   "metadata": {
    "scrolled": true
   },
   "outputs": [
    {
     "data": {
      "text/plain": [
       "[{'steamid': '76561197963600137', 'relationship': 'friend', 'friend_since': 0},\n",
       " {'steamid': '76561197997710611',\n",
       "  'relationship': 'friend',\n",
       "  'friend_since': 1269307538},\n",
       " {'steamid': '76561197998960393',\n",
       "  'relationship': 'friend',\n",
       "  'friend_since': 1307812884},\n",
       " {'steamid': '76561198001392240',\n",
       "  'relationship': 'friend',\n",
       "  'friend_since': 1320726916},\n",
       " {'steamid': '76561198007882536',\n",
       "  'relationship': 'friend',\n",
       "  'friend_since': 1344878311},\n",
       " {'steamid': '76561198011398590',\n",
       "  'relationship': 'friend',\n",
       "  'friend_since': 1587601180},\n",
       " {'steamid': '76561198014092640',\n",
       "  'relationship': 'friend',\n",
       "  'friend_since': 1254614688},\n",
       " {'steamid': '76561198027693614',\n",
       "  'relationship': 'friend',\n",
       "  'friend_since': 1316935145},\n",
       " {'steamid': '76561198035549158',\n",
       "  'relationship': 'friend',\n",
       "  'friend_since': 1443377757},\n",
       " {'steamid': '76561198036868521',\n",
       "  'relationship': 'friend',\n",
       "  'friend_since': 1305607658},\n",
       " {'steamid': '76561198039276037',\n",
       "  'relationship': 'friend',\n",
       "  'friend_since': 1374085056},\n",
       " {'steamid': '76561198040131174',\n",
       "  'relationship': 'friend',\n",
       "  'friend_since': 1301725295},\n",
       " {'steamid': '76561198040636882',\n",
       "  'relationship': 'friend',\n",
       "  'friend_since': 1303082161},\n",
       " {'steamid': '76561198040910902',\n",
       "  'relationship': 'friend',\n",
       "  'friend_since': 1503693378},\n",
       " {'steamid': '76561198045714404',\n",
       "  'relationship': 'friend',\n",
       "  'friend_since': 1311826846},\n",
       " {'steamid': '76561198046658137',\n",
       "  'relationship': 'friend',\n",
       "  'friend_since': 1314253763},\n",
       " {'steamid': '76561198049945609',\n",
       "  'relationship': 'friend',\n",
       "  'friend_since': 1324321691},\n",
       " {'steamid': '76561198052848554',\n",
       "  'relationship': 'friend',\n",
       "  'friend_since': 1457461758},\n",
       " {'steamid': '76561198052912535',\n",
       "  'relationship': 'friend',\n",
       "  'friend_since': 1588564514},\n",
       " {'steamid': '76561198053110849',\n",
       "  'relationship': 'friend',\n",
       "  'friend_since': 1434059164},\n",
       " {'steamid': '76561198057056652',\n",
       "  'relationship': 'friend',\n",
       "  'friend_since': 1358468175},\n",
       " {'steamid': '76561198057166518',\n",
       "  'relationship': 'friend',\n",
       "  'friend_since': 1331505459},\n",
       " {'steamid': '76561198061440112',\n",
       "  'relationship': 'friend',\n",
       "  'friend_since': 1527991979},\n",
       " {'steamid': '76561198062030175',\n",
       "  'relationship': 'friend',\n",
       "  'friend_since': 1429676146},\n",
       " {'steamid': '76561198065824838',\n",
       "  'relationship': 'friend',\n",
       "  'friend_since': 1421642287},\n",
       " {'steamid': '76561198067247463',\n",
       "  'relationship': 'friend',\n",
       "  'friend_since': 1342421565},\n",
       " {'steamid': '76561198069122345',\n",
       "  'relationship': 'friend',\n",
       "  'friend_since': 1347579389},\n",
       " {'steamid': '76561198069353711',\n",
       "  'relationship': 'friend',\n",
       "  'friend_since': 1406021265},\n",
       " {'steamid': '76561198083780949',\n",
       "  'relationship': 'friend',\n",
       "  'friend_since': 1430704258},\n",
       " {'steamid': '76561198084252609',\n",
       "  'relationship': 'friend',\n",
       "  'friend_since': 1405803256},\n",
       " {'steamid': '76561198084423834',\n",
       "  'relationship': 'friend',\n",
       "  'friend_since': 1472435899},\n",
       " {'steamid': '76561198089390984',\n",
       "  'relationship': 'friend',\n",
       "  'friend_since': 1445917599},\n",
       " {'steamid': '76561198095415748',\n",
       "  'relationship': 'friend',\n",
       "  'friend_since': 1430455650},\n",
       " {'steamid': '76561198125215133',\n",
       "  'relationship': 'friend',\n",
       "  'friend_since': 1457461760},\n",
       " {'steamid': '76561198129300595',\n",
       "  'relationship': 'friend',\n",
       "  'friend_since': 1443900436},\n",
       " {'steamid': '76561198130447801',\n",
       "  'relationship': 'friend',\n",
       "  'friend_since': 1405664065},\n",
       " {'steamid': '76561198193396923',\n",
       "  'relationship': 'friend',\n",
       "  'friend_since': 1443500924},\n",
       " {'steamid': '76561198203050287',\n",
       "  'relationship': 'friend',\n",
       "  'friend_since': 1527992002},\n",
       " {'steamid': '76561198247044520',\n",
       "  'relationship': 'friend',\n",
       "  'friend_since': 1440891291},\n",
       " {'steamid': '76561198255540725',\n",
       "  'relationship': 'friend',\n",
       "  'friend_since': 1465168352},\n",
       " {'steamid': '76561198328331080',\n",
       "  'relationship': 'friend',\n",
       "  'friend_since': 1503884224}]"
      ]
     },
     "execution_count": 5,
     "metadata": {},
     "output_type": "execute_result"
    }
   ],
   "source": [
    "r = get_player_friends()\n",
    "r"
   ]
  },
  {
   "cell_type": "code",
   "execution_count": 6,
   "metadata": {},
   "outputs": [
    {
     "name": "stdout",
     "output_type": "stream",
     "text": [
      "41\n"
     ]
    }
   ],
   "source": [
    "print(len(r))"
   ]
  },
  {
   "cell_type": "code",
   "execution_count": 5,
   "metadata": {
    "collapsed": true
   },
   "outputs": [],
   "source": [
    "from queue import Queue\n",
    "MAX_USERS = 50"
   ]
  },
  {
   "cell_type": "code",
   "execution_count": 7,
   "metadata": {},
   "outputs": [
    {
     "name": "stdout",
     "output_type": "stream",
     "text": [
      "{76561198297510146, 76561198039276037, 76561198089390984, 76561197963600137, 76561197998960393, 76561198049945609, 76561198057056652, 76561197997710611, 76561198052912535, 76561198084423834, 76561198125215133, 76561198007882536, 76561198036868521, 76561198052848554, 76561198069122345, 76561198247044520, 76561198027693614, 76561198203050287, 76561198040910902, 76561198057166518, 76561198130447801, 76561198193396923, 76561198053110849, 76561198084252609, 76561198095415748, 76561198065824838, 76561198328331080, 76561198040636882, 76561198083780949, 76561198046658137, 76561198062030175, 76561198014092640, 76561198045714404, 76561198035549158, 76561198040131174, 76561198067247463, 76561198069353711, 76561198001392240, 76561198061440112, 76561198127893103, 76561198129300595, 76561198255540725, 76561198087270520, 76561197978184570}\n",
      "<queue.Queue object at 0x7fda353c1470>\n"
     ]
    }
   ],
   "source": [
    "minedUserIDs = set()\n",
    "minedUserIDs.add(76561197978184570)\n",
    "toExplore = Queue()\n",
    "for friend in r:\n",
    "    ID = int(friend['steamid'])\n",
    "    toExplore.put(ID)\n",
    "    minedUserIDs.add(ID)\n",
    "\n",
    "print(minedUserIDs)\n",
    "print(toExplore)\n",
    "    "
   ]
  },
  {
   "cell_type": "code",
   "execution_count": null,
   "metadata": {
    "collapsed": true
   },
   "outputs": [],
   "source": []
  }
 ],
 "metadata": {
  "kernelspec": {
   "display_name": "Python 3",
   "language": "python",
   "name": "python3"
  },
  "language_info": {
   "codemirror_mode": {
    "name": "ipython",
    "version": 3
   },
   "file_extension": ".py",
   "mimetype": "text/x-python",
   "name": "python",
   "nbconvert_exporter": "python",
   "pygments_lexer": "ipython3",
   "version": "3.6.9"
  }
 },
 "nbformat": 4,
 "nbformat_minor": 2
}
